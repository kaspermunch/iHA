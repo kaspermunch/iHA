{
 "cells": [
  {
   "cell_type": "code",
   "execution_count": 2,
   "metadata": {},
   "outputs": [],
   "source": [
    "from bitarray import bitarray"
   ]
  },
  {
   "cell_type": "markdown",
   "metadata": {},
   "source": [
    "    & (bitwise AND)\n",
    "    | (bitwise OR)\n",
    "    ~ (bitwise NOT)\n",
    "    ^ (bitwise XOR)\n",
    "    << (bitwise left shift)\n",
    "    >> (bitwise right shift)\n",
    "    >>> (bitwise unsigned right shift)\n",
    "    &= (bitwise AND assignment)\n",
    "    |= (bitwise OR assignment)\n",
    "    ^= (bitwise XOR assignment)\n",
    "    <<= (bitwise left shift and assignment)\n",
    "    >>= (bitwise right shift and assignment)\n",
    "    >>>= (bitwise unsigned right shift and assignment)"
   ]
  },
  {
   "cell_type": "code",
   "execution_count": 103,
   "metadata": {},
   "outputs": [],
   "source": [
    "b = bitarray('101010100')\n"
   ]
  },
  {
   "cell_type": "code",
   "execution_count": 104,
   "metadata": {},
   "outputs": [
    {
     "data": {
      "text/plain": [
       "bitarray('101010101')"
      ]
     },
     "execution_count": 104,
     "metadata": {},
     "output_type": "execute_result"
    }
   ],
   "source": [
    "a = bitarray('000000001')\n",
    "a | b # set a bit to one"
   ]
  },
  {
   "cell_type": "code",
   "execution_count": 17,
   "metadata": {},
   "outputs": [
    {
     "data": {
      "text/plain": [
       "bitarray('101010100')"
      ]
     },
     "execution_count": 17,
     "metadata": {},
     "output_type": "execute_result"
    }
   ],
   "source": [
    "a = bitarray('111111110')\n",
    "a & b # set a bit to zero"
   ]
  },
  {
   "cell_type": "code",
   "execution_count": 19,
   "metadata": {},
   "outputs": [
    {
     "data": {
      "text/plain": [
       "bitarray('101010101')"
      ]
     },
     "execution_count": 19,
     "metadata": {},
     "output_type": "execute_result"
    }
   ],
   "source": [
    "a = bitarray('000000001')\n",
    "a ^ b # flip a bit"
   ]
  },
  {
   "cell_type": "code",
   "execution_count": 24,
   "metadata": {},
   "outputs": [
    {
     "data": {
      "text/plain": [
       "False"
      ]
     },
     "execution_count": 24,
     "metadata": {},
     "output_type": "execute_result"
    }
   ],
   "source": [
    "bitarray('000').any()"
   ]
  },
  {
   "cell_type": "code",
   "execution_count": 28,
   "metadata": {},
   "outputs": [
    {
     "data": {
      "text/plain": [
       "bitarray('000000000')"
      ]
     },
     "execution_count": 28,
     "metadata": {},
     "output_type": "execute_result"
    }
   ],
   "source": [
    "bitarray('000000001') & bitarray('000000000')"
   ]
  },
  {
   "cell_type": "code",
   "execution_count": 49,
   "metadata": {},
   "outputs": [
    {
     "data": {
      "text/plain": [
       "True"
      ]
     },
     "execution_count": 49,
     "metadata": {},
     "output_type": "execute_result"
    }
   ],
   "source": [
    "from bitarray import bitarray\n",
    "\n",
    "class bitarr(bitarray):\n",
    "    def __bool__(self):\n",
    "        return self.any()\n",
    "\n",
    "bool(bitarr('111'))"
   ]
  },
  {
   "cell_type": "code",
   "execution_count": 67,
   "metadata": {},
   "outputs": [
    {
     "data": {
      "text/plain": [
       "[('0', '0', '1', '1', '1'),\n",
       " ('0', '0', '0', '0', '0'),\n",
       " ('0', '0', '0', '0', '0'),\n",
       " ('0', '0', '0', '0', '0'),\n",
       " ('0', '0', '0', '0', '0'),\n",
       " ('0', '0', '0', '0', '0'),\n",
       " ('0', '0', '0', '0', '0'),\n",
       " ('0', '0', '0', '0', '0'),\n",
       " ('0', '0', '0', '0', '0'),\n",
       " ('0', '0', '0', '0', '0'),\n",
       " ('0', '0', '0', '0', '0'),\n",
       " ('0', '0', '0', '0', '0'),\n",
       " ('0', '0', '0', '0', '0'),\n",
       " ('0', '0', '0', '0', '0'),\n",
       " ('0', '0', '0', '0', '0'),\n",
       " ('0', '0', '0', '0', '0'),\n",
       " ('0', '0', '0', '0', '0'),\n",
       " ('0', '0', '0', '0', '0'),\n",
       " ('0', '0', '0', '0', '0'),\n",
       " ('0', '0', '0', '0', '0'),\n",
       " ('0', '0', '0', '0', '0'),\n",
       " ('0', '0', '0', '0', '0'),\n",
       " ('0', '0', '0', '0', '0'),\n",
       " ('0', '0', '0', '0', '0'),\n",
       " ('0', '0', '0', '0', '0'),\n",
       " ('0', '0', '0', '0', '0'),\n",
       " ('0', '0', '0', '0', '0'),\n",
       " ('0', '0', '0', '0', '0'),\n",
       " ('0', '0', '0', '0', '0'),\n",
       " ('0', '0', '0', '0', '0')]"
      ]
     },
     "execution_count": 67,
     "metadata": {},
     "output_type": "execute_result"
    }
   ],
   "source": []
  },
  {
   "cell_type": "code",
   "execution_count": 110,
   "metadata": {},
   "outputs": [
    {
     "name": "stdout",
     "output_type": "stream",
     "text": [
      "inside: bitarray('00111') outside: bitarray('11000')\n",
      "bitarray('11000')\n",
      "ok, record ok\n",
      "\n",
      "inside: bitarray('00111') outside: bitarray('11000')\n",
      "bitarray('00110')\n",
      "ok, record ok\n",
      "\n",
      "inside: bitarray('00111') outside: bitarray('11000')\n",
      "bitarray('11100')\n",
      "not ok, put outside bitarray('00100') and record event\n",
      "\n",
      "inside: bitarray('00011') outside: bitarray('11100')\n",
      "bitarray('00010')\n",
      "ok, record ok\n",
      "\n",
      "inside: bitarray('00011') outside: bitarray('11100')\n",
      "bitarray('10001')\n",
      "not ok, put outside bitarray('00001') and record event\n",
      "\n"
     ]
    }
   ],
   "source": [
    "import numpy as np\n",
    "\n",
    "aln = ['000010000000010000000001000000',\n",
    "       '000010000000010000000000000000',\n",
    "       '100000010000010000000000000000',\n",
    "       '100000010000000010000000000000',\n",
    "       '100000000000000000000001000000']\n",
    "lst = list()\n",
    "for l in zip(*aln):\n",
    "    ba = bitarray(map(int, l))\n",
    "    if ba.any():\n",
    "        lst.append(ba)\n",
    "#print(lst)\n",
    "    \n",
    "inside = lst[0]\n",
    "outside = ~inside\n",
    "inside, outside\n",
    "\n",
    "for derived in lst[1:]:\n",
    "    print('inside:', inside, 'outside:', outside)\n",
    "    print(derived)\n",
    "    \n",
    "    derived_inside = derived & inside\n",
    "    derived_outside = derived & outside\n",
    "    \n",
    "    if derived_inside.any() != derived_outside.any():\n",
    "        print('ok, record ok')\n",
    "    else:\n",
    "        print('not ok, put outside', derived_inside, 'and record event')\n",
    "\n",
    "        inside ^= derived_inside\n",
    "        outside ^= derived_inside\n",
    "\n",
    "    print()"
   ]
  },
  {
   "cell_type": "code",
   "execution_count": null,
   "metadata": {},
   "outputs": [],
   "source": []
  }
 ],
 "metadata": {
  "kernelspec": {
   "display_name": "Python 3",
   "language": "python",
   "name": "python3"
  },
  "language_info": {
   "codemirror_mode": {
    "name": "ipython",
    "version": 3
   },
   "file_extension": ".py",
   "mimetype": "text/x-python",
   "name": "python",
   "nbconvert_exporter": "python",
   "pygments_lexer": "ipython3",
   "version": "3.6.8"
  }
 },
 "nbformat": 4,
 "nbformat_minor": 2
}
